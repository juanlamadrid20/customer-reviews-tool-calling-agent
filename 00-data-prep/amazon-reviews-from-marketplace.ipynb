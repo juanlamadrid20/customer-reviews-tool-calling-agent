{
 "cells": [
  {
   "cell_type": "markdown",
   "metadata": {
    "application/vnd.databricks.v1+cell": {
     "cellMetadata": {},
     "inputWidgets": {},
     "nuid": "93d5fac0-5fdb-4f65-a044-0f0fff1b9152",
     "showTitle": false,
     "tableResultSettingsMap": {},
     "title": ""
    }
   },
   "source": [
    "# Amazon Reviews\n",
    "- creating initial reviews table from marketplace data set\n",
    "\n",
    "- NOTE - In Marketplace Search for Amazon and select the Bright Data Amazon - Best Seller Products /Reviews/Products Dataset (Free for 1000 rows)"
   ]
  },
  {
   "cell_type": "code",
   "execution_count": 0,
   "metadata": {
    "application/vnd.databricks.v1+cell": {
     "cellMetadata": {
      "byteLimit": 2048000,
      "implicitDf": true,
      "rowLimit": 10000
     },
     "inputWidgets": {},
     "nuid": "d23725c1-74ae-4d2e-82db-974d27a4105f",
     "showTitle": false,
     "tableResultSettingsMap": {},
     "title": ""
    },
    "vscode": {
     "languageId": "sql"
    }
   },
   "outputs": [],
   "source": [
    "%sql\n",
    "select * from bright_data_amazon_best_seller_products_reviews_products_dataset.datasets.amazon_best_seller_products limit 10;"
   ]
  },
  {
   "cell_type": "code",
   "execution_count": 0,
   "metadata": {
    "application/vnd.databricks.v1+cell": {
     "cellMetadata": {
      "byteLimit": 2048000,
      "implicitDf": true,
      "rowLimit": 10000
     },
     "inputWidgets": {},
     "nuid": "52800fd1-71f2-46d6-aef8-3672bf0f0715",
     "showTitle": false,
     "tableResultSettingsMap": {},
     "title": ""
    },
    "vscode": {
     "languageId": "sql"
    }
   },
   "outputs": [],
   "source": [
    "%sql\n",
    "select * from bright_data_amazon_best_seller_products_reviews_products_dataset.datasets.amazon_products LIMIT 10;"
   ]
  },
  {
   "cell_type": "code",
   "execution_count": 0,
   "metadata": {
    "application/vnd.databricks.v1+cell": {
     "cellMetadata": {
      "byteLimit": 2048000,
      "implicitDf": true,
      "rowLimit": 10000
     },
     "inputWidgets": {},
     "nuid": "675b595c-948b-4125-851d-513cb4bb723f",
     "showTitle": false,
     "tableResultSettingsMap": {},
     "title": ""
    },
    "vscode": {
     "languageId": "sql"
    }
   },
   "outputs": [],
   "source": [
    "%sql\n",
    "select * from bright_data_amazon_best_seller_products_reviews_products_dataset.datasets.amazon_reviews LIMIT 10;"
   ]
  },
  {
   "cell_type": "code",
   "execution_count": 0,
   "metadata": {
    "application/vnd.databricks.v1+cell": {
     "cellMetadata": {
      "byteLimit": 2048000,
      "implicitDf": true,
      "rowLimit": 10000
     },
     "inputWidgets": {},
     "nuid": "1956534f-0495-4d43-9820-ae19568dc584",
     "showTitle": false,
     "tableResultSettingsMap": {},
     "title": ""
    },
    "vscode": {
     "languageId": "sql"
    }
   },
   "outputs": [],
   "source": [
    "%sql\n",
    "select count(*) from bright_data_amazon_best_seller_products_reviews_products_dataset.datasets.amazon_reviews;"
   ]
  },
  {
   "cell_type": "code",
   "execution_count": 0,
   "metadata": {
    "application/vnd.databricks.v1+cell": {
     "cellMetadata": {
      "byteLimit": 2048000,
      "rowLimit": 10000
     },
     "inputWidgets": {},
     "nuid": "a8af1f95-1fe0-4eeb-b67c-47e0a6a79c3e",
     "showTitle": false,
     "tableResultSettingsMap": {},
     "title": ""
    }
   },
   "outputs": [],
   "source": [
    "# Parameters for cleanup\n",
    "catalog_name = \"juan_dev\"\n",
    "schema_name = \"genai\""
   ]
  },
  {
   "cell_type": "code",
   "execution_count": 0,
   "metadata": {
    "application/vnd.databricks.v1+cell": {
     "cellMetadata": {
      "byteLimit": 2048000,
      "rowLimit": 10000
     },
     "inputWidgets": {},
     "nuid": "3ec33162-7064-42a2-b2fb-0a5719c9e850",
     "showTitle": false,
     "tableResultSettingsMap": {},
     "title": ""
    }
   },
   "outputs": [],
   "source": [
    "DB_TBL = f\"{catalog_name}.{schema_name}.amazon_reviews_mktpl\"  # If you change the database name here, update all database names in other parts."
   ]
  },
  {
   "cell_type": "code",
   "execution_count": 0,
   "metadata": {
    "application/vnd.databricks.v1+cell": {
     "cellMetadata": {
      "byteLimit": 2048000,
      "rowLimit": 10000
     },
     "inputWidgets": {},
     "nuid": "e0f6b21e-8247-4660-9a2c-b0cdb3863d66",
     "showTitle": false,
     "tableResultSettingsMap": {},
     "title": ""
    }
   },
   "outputs": [],
   "source": [
    "df = spark.table(\"bright_data_amazon_best_seller_products_reviews_products_dataset.datasets.amazon_reviews\")"
   ]
  },
  {
   "cell_type": "code",
   "execution_count": 0,
   "metadata": {
    "application/vnd.databricks.v1+cell": {
     "cellMetadata": {
      "byteLimit": 2048000,
      "rowLimit": 10000
     },
     "inputWidgets": {},
     "nuid": "ffb32d8f-9865-4436-b292-8473a76a631c",
     "showTitle": false,
     "tableResultSettingsMap": {},
     "title": ""
    }
   },
   "outputs": [],
   "source": [
    "from pyspark.sql.functions import col\n",
    "\n",
    "# Cast columns to double\n",
    "df = df.withColumn(\"PRODUCT_RATING\", col(\"PRODUCT_RATING\").cast(\"double\"))\n",
    "df = df.withColumn(\"PRODUCT_RATING_MAX\", col(\"PRODUCT_RATING_MAX\").cast(\"double\"))\n",
    "df = df.withColumn(\"RATING\", col(\"RATING\").cast(\"double\"))\n",
    "df = df.withColumn(\"PRODUCT_RATING_COUNT\", col(\"PRODUCT_RATING_COUNT\").cast(\"double\"))\n",
    "df = df.withColumn(\"PRODUCT_REVIEWS_NUMBER\", col(\"PRODUCT_REVIEWS_NUMBER\").cast(\"double\"))\n",
    "df = df.withColumn(\"HELPFUL_COUNT\", col(\"HELPFUL_COUNT\").cast(\"double\"))\n",
    "\n",
    "# Write to Delta table with properties\n",
    "# NOTE delta.enableChangeDataFeed to enable creation of vector search index.\n",
    "df.writeTo(DB_TBL)\\\n",
    "    .using(\"delta\")\\\n",
    "    .tableProperty(\"delta.minReaderVersion\", \"2\")\\\n",
    "    .tableProperty(\"delta.minWriterVersion\", \"7\")\\\n",
    "    .tableProperty(\"delta.enableChangeDataFeed\", \"true\")\\\n",
    "    .createOrReplace()"
   ]
  },
  {
   "cell_type": "code",
   "execution_count": 0,
   "metadata": {
    "application/vnd.databricks.v1+cell": {
     "cellMetadata": {
      "byteLimit": 2048000,
      "rowLimit": 10000
     },
     "inputWidgets": {},
     "nuid": "a2c8c68b-f6aa-4ac6-a674-848859f8f392",
     "showTitle": false,
     "tableResultSettingsMap": {},
     "title": ""
    }
   },
   "outputs": [],
   "source": [
    "from pyspark.sql.functions import rand\n",
    "\n",
    "df = spark.table(DB_TBL)"
   ]
  }
 ],
 "metadata": {
  "application/vnd.databricks.v1+notebook": {
   "computePreferences": null,
   "dashboards": [],
   "environmentMetadata": null,
   "inputWidgetPreferences": null,
   "language": "python",
   "notebookMetadata": {
    "mostRecentlyExecutedCommandWithImplicitDF": {
     "commandId": 2588019255032552,
     "dataframes": [
      "_sqldf"
     ]
    },
    "pythonIndentUnit": 2
   },
   "notebookName": "amazon-reviews-from-marketplace",
   "widgets": {}
  },
  "kernelspec": {
   "display_name": "dbrx-de-WrvEAxQj-py3.11",
   "language": "python",
   "name": "python3"
  },
  "language_info": {
   "name": "python"
  }
 },
 "nbformat": 4,
 "nbformat_minor": 0
}
