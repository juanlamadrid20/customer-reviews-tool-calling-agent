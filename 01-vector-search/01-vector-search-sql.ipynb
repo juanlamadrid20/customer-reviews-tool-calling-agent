{
 "cells": [
  {
   "cell_type": "code",
   "execution_count": null,
   "metadata": {
    "application/vnd.databricks.v1+cell": {
     "cellMetadata": {
      "byteLimit": 10485760,
      "rowLimit": 1000
     },
     "inputWidgets": {},
     "nuid": "a5937592-9ff3-43a2-b7b8-b618f1d580e0",
     "showTitle": false,
     "tableResultSettingsMap": {},
     "title": ""
    },
    "vscode": {
     "languageId": "sql"
    }
   },
   "outputs": [],
   "source": [
    "%sql\n",
    "select REVIEW_ID, * from juan_dev.genai.amazon_reviews_mktpl ORDER BY RAND() LIMIT 10;\n"
   ]
  },
  {
   "cell_type": "code",
   "execution_count": null,
   "metadata": {
    "vscode": {
     "languageId": "sql"
    }
   },
   "outputs": [],
   "source": [
    "%sql\n",
    "SELECT \n",
    "  PRODUCT_NAME, PRODUCT_RATING, RATING, REVIEW_ID, REVIEW_TEXT, BRAND, HELPFUL_COUNT \n",
    "FROM\n",
    "  vector_search(\n",
    "    -- Specify your Vector Search index name here\n",
    "    index => 'juan_dev.genai.amazon_reviews_mktpl_vsidx',\n",
    "    query => \"looking to purchase Bluetooth Earbuds for small ears\",\n",
    "    num_results => 4\n",
    "  )"
   ]
  },
  {
   "cell_type": "code",
   "execution_count": null,
   "metadata": {
    "vscode": {
     "languageId": "sql"
    }
   },
   "outputs": [],
   "source": [
    "%sql\n",
    "SELECT \n",
    "  PRODUCT_NAME, PRODUCT_RATING, RATING, REVIEW_ID, REVIEW_TEXT, BRAND, HELPFUL_COUNT \n",
    "FROM\n",
    "  vector_search(\n",
    "    -- Specify your Vector Search index name here\n",
    "    index => 'juan_dev.genai.amazon_reviews_mktpl_vsidx',\n",
    "    query => \"looking to purchase a Potlimepan soup maker\",\n",
    "    num_results => 4\n",
    "  );"
   ]
  },
  {
   "cell_type": "code",
   "execution_count": null,
   "metadata": {
    "vscode": {
     "languageId": "sql"
    }
   },
   "outputs": [],
   "source": []
  }
 ],
 "metadata": {
  "application/vnd.databricks.v1+notebook": {
   "computePreferences": null,
   "dashboards": [],
   "environmentMetadata": null,
   "inputWidgetPreferences": null,
   "language": "sql",
   "notebookMetadata": {
    "pythonIndentUnit": 2,
    "sqlQueryOptions": {
     "applyAutoLimit": true,
     "catalog": "juan_dev",
     "schema": "genai"
    }
   },
   "notebookName": "01-vector-search-sql.dbquery.ipynb",
   "widgets": {}
  },
  "kernelspec": {
   "display_name": ".venv",
   "language": "python",
   "name": "python3"
  },
  "language_info": {
   "codemirror_mode": {
    "name": "ipython",
    "version": 3
   },
   "file_extension": ".py",
   "mimetype": "text/x-python",
   "name": "python",
   "nbconvert_exporter": "python",
   "pygments_lexer": "ipython3",
   "version": "3.11.9"
  }
 },
 "nbformat": 4,
 "nbformat_minor": 0
}
