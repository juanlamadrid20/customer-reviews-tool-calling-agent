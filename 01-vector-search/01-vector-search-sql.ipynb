{
 "cells": [
  {
   "cell_type": "code",
   "execution_count": 0,
   "metadata": {
    "application/vnd.databricks.v1+cell": {
     "cellMetadata": {
      "byteLimit": 10485760,
      "rowLimit": 1000
     },
     "inputWidgets": {},
     "nuid": "a5937592-9ff3-43a2-b7b8-b618f1d580e0",
     "showTitle": false,
     "tableResultSettingsMap": {},
     "title": ""
    }
   },
   "outputs": [],
   "source": [
    "select REVIEW_ID, * from juan_dev.genai.amazon_reviews_mktpl ORDER BY RAND() LIMIT 10;\n",
    "\n",
    "-- Semantic search in SQL\n",
    "SELECT \n",
    "  PRODUCT_NAME, PRODUCT_RATING, RATING, REVIEW_ID, REVIEW_TEXT, BRAND, HELPFUL_COUNT \n",
    "FROM\n",
    "  vector_search(\n",
    "    -- Specify your Vector Search index name here\n",
    "    index => 'juan_dev.genai.amazon_reviews_mktpl_vsidx',\n",
    "    query => \"looking to purchase a Potlimepan soup maker\",\n",
    "    num_results => 4\n",
    "  );\n",
    "\n",
    "SELECT \n",
    "  PRODUCT_NAME, PRODUCT_RATING, RATING, REVIEW_ID, REVIEW_TEXT, BRAND, HELPFUL_COUNT \n",
    "FROM\n",
    "  vector_search(\n",
    "    -- Specify your Vector Search index name here\n",
    "    index => 'juan_dev.genai.amazon_reviews_mktpl_vsidx',\n",
    "    query => \"looking to purchase Bluetooth Earbuds for small ears\",\n",
    "    num_results => 4\n",
    "  )"
   ]
  }
 ],
 "metadata": {
  "application/vnd.databricks.v1+notebook": {
   "computePreferences": null,
   "dashboards": [],
   "environmentMetadata": null,
   "inputWidgetPreferences": null,
   "language": "sql",
   "notebookMetadata": {
    "pythonIndentUnit": 2,
    "sqlQueryOptions": {
     "applyAutoLimit": true,
     "catalog": "juan_dev",
     "schema": "genai"
    }
   },
   "notebookName": "01-vector-search-sql.dbquery.ipynb",
   "widgets": {}
  },
  "language_info": {
   "name": "sql"
  }
 },
 "nbformat": 4,
 "nbformat_minor": 0
}
