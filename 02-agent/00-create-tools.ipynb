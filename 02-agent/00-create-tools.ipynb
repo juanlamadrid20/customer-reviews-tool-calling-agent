{
 "cells": [
  {
   "cell_type": "markdown",
   "metadata": {
    "application/vnd.databricks.v1+cell": {
     "cellMetadata": {},
     "inputWidgets": {},
     "nuid": "07d86c30-b860-4215-b325-6751869249c2",
     "showTitle": false,
     "tableResultSettingsMap": {},
     "title": ""
    }
   },
   "source": [
    "### Tool to fetch internal data: getting specific review info\n",
    "\n",
    "NOTE: Use SQL Warehouse to run this notebook as all cells are SQL"
   ]
  },
  {
   "cell_type": "code",
   "execution_count": null,
   "metadata": {
    "application/vnd.databricks.v1+cell": {
     "cellMetadata": {
      "byteLimit": 2048000,
      "implicitDf": true,
      "rowLimit": 10000
     },
     "inputWidgets": {},
     "nuid": "5e6327c9-a221-4d16-9a61-30afa8cf333a",
     "showTitle": false,
     "tableResultSettingsMap": {},
     "title": ""
    },
    "vscode": {
     "languageId": "sql"
    }
   },
   "outputs": [],
   "source": [
    "%sql\n",
    "select review_id, * from juan_dev.genai.amazon_reviews_mktpl where contains(product_name, \"Soup\") limit 10;"
   ]
  },
  {
   "cell_type": "code",
   "execution_count": null,
   "metadata": {
    "application/vnd.databricks.v1+cell": {
     "cellMetadata": {
      "byteLimit": 2048000,
      "rowLimit": 10000
     },
     "inputWidgets": {},
     "nuid": "997875e1-535a-453a-a35e-9d631c3c3797",
     "showTitle": false,
     "tableResultSettingsMap": {},
     "title": ""
    },
    "vscode": {
     "languageId": "sql"
    }
   },
   "outputs": [],
   "source": [
    "%sql\n",
    "select review_id, * from juan_dev.genai.amazon_reviews_mktpl where contains(product_name, \"Bluetooth Earbuds \") limit 10;"
   ]
  },
  {
   "cell_type": "code",
   "execution_count": null,
   "metadata": {
    "application/vnd.databricks.v1+cell": {
     "cellMetadata": {
      "byteLimit": 2048000,
      "implicitDf": true,
      "rowLimit": 10000
     },
     "inputWidgets": {},
     "nuid": "1d05bbcc-d37c-46de-a9da-bf3f83fb9525",
     "showTitle": false,
     "tableResultSettingsMap": {},
     "title": ""
    },
    "vscode": {
     "languageId": "sql"
    }
   },
   "outputs": [],
   "source": [
    "%sql\n",
    "CREATE OR REPLACE FUNCTION juan_dev.genai.get_review(review_id_p STRING)\n",
    "RETURNS TABLE(\n",
    "  product_name STRING,\n",
    "  product_rating DOUBLE,\n",
    "  review_header STRING,\n",
    "  review_text STRING)\n",
    "COMMENT 'Returns a list of reviews for the given review ID (expect a UUID)'\n",
    "LANGUAGE SQL\n",
    "    RETURN\n",
    "    SELECT product_name, product_rating, review_header, review_text \n",
    "    FROM juan_dev.genai.amazon_reviews_mktpl \n",
    "    WHERE review_id = review_id_p;"
   ]
  },
  {
   "cell_type": "code",
   "execution_count": null,
   "metadata": {
    "application/vnd.databricks.v1+cell": {
     "cellMetadata": {
      "byteLimit": 2048000,
      "implicitDf": true,
      "rowLimit": 10000
     },
     "inputWidgets": {},
     "nuid": "4ebabd76-c9af-4793-b449-abe700533597",
     "showTitle": false,
     "tableResultSettingsMap": {},
     "title": ""
    },
    "vscode": {
     "languageId": "sql"
    }
   },
   "outputs": [],
   "source": [
    "%sql\n",
    "SELECT * FROM juan_dev.genai.get_review(\"RZH2X8IQWV0I8\");"
   ]
  },
  {
   "cell_type": "markdown",
   "metadata": {
    "application/vnd.databricks.v1+cell": {
     "cellMetadata": {},
     "inputWidgets": {},
     "nuid": "a7b9fa8a-fba9-4359-ba77-7fb6796d88c9",
     "showTitle": false,
     "tableResultSettingsMap": {},
     "title": ""
    }
   },
   "source": [
    "- https://docs.databricks.com/aws/en/generative-ai/agent-framework/unstructured-retrieval-tools"
   ]
  },
  {
   "cell_type": "markdown",
   "metadata": {
    "application/vnd.databricks.v1+cell": {
     "cellMetadata": {},
     "inputWidgets": {},
     "nuid": "756553b8-1f22-458e-b564-750f08404f19",
     "showTitle": false,
     "tableResultSettingsMap": {},
     "title": ""
    }
   },
   "source": [
    "NOTE: response can come back with non semantic results given the small data set size. "
   ]
  },
  {
   "cell_type": "code",
   "execution_count": 0,
   "metadata": {
    "application/vnd.databricks.v1+cell": {
     "cellMetadata": {
      "byteLimit": 2048000,
      "implicitDf": true,
      "rowLimit": 10000
     },
     "inputWidgets": {},
     "nuid": "f98bc2be-7756-4d0b-b6a4-711b6a36a57f",
     "showTitle": false,
     "tableResultSettingsMap": {},
     "title": ""
    },
    "vscode": {
     "languageId": "sql"
    }
   },
   "outputs": [],
   "source": [
    "-- ALready created vector search in prior step\n",
    "SELECT PRODUCT_NAME, PRODUCT_RATING, RATING, REVIEW_ID, REVIEW_TEXT, BRAND, HELPFUL_COUNT FROM\n",
    "  vector_search(\n",
    "    -- Specify your Vector Search index name here\n",
    "    index => 'juan_dev.genai.amazon_reviews_mktpl_vsidx',\n",
    "    query => \"looking to purchase Bluetooth Earbuds that have good frequency response in mid range\",\n",
    "    num_results => 4\n",
    "  )"
   ]
  },
  {
   "cell_type": "code",
   "execution_count": 0,
   "metadata": {
    "application/vnd.databricks.v1+cell": {
     "cellMetadata": {
      "byteLimit": 2048000,
      "implicitDf": true,
      "rowLimit": 10000
     },
     "inputWidgets": {},
     "nuid": "4bf6e099-be70-423f-86d6-d359ec84b86f",
     "showTitle": false,
     "tableResultSettingsMap": {},
     "title": ""
    },
    "vscode": {
     "languageId": "sql"
    }
   },
   "outputs": [],
   "source": [
    "CREATE OR REPLACE FUNCTION juan_dev.genai.semantic_search_reviews (\n",
    "  -- The agent uses this comment to determine how to generate the query string parameter.\n",
    "  query STRING\n",
    "  COMMENT 'The query string for searching amazon reviews.'\n",
    ") RETURNS TABLE\n",
    "-- The agent uses this comment to determine when to call this tool. It describes the types of documents and information contained within the index.\n",
    "COMMENT 'Executes a search on amazon reviews most relevant to the input query.' \n",
    "RETURN\n",
    "SELECT * FROM\n",
    "  vector_search(\n",
    "    -- Specify your Vector Search index name here\n",
    "    index => 'juan_dev.genai.amazon_reviews_mktpl_vsidx',\n",
    "    query => query,\n",
    "    num_results => 3\n",
    "  )"
   ]
  },
  {
   "cell_type": "code",
   "execution_count": 0,
   "metadata": {
    "application/vnd.databricks.v1+cell": {
     "cellMetadata": {
      "byteLimit": 2048000,
      "rowLimit": 10000
     },
     "inputWidgets": {},
     "nuid": "093b4f43-5c2f-46d5-b7d2-d39f3bac9a14",
     "showTitle": false,
     "tableResultSettingsMap": {},
     "title": ""
    },
    "vscode": {
     "languageId": "sql"
    }
   },
   "outputs": [],
   "source": [
    "-- ********* NOTE - THIS ONLY WORKS ON SQL WAREHOUSE COMPUTE, Running on Cluster will error ******** ------\n",
    "select * from juan_dev.genai.semantic_search_reviews(\"looking for reviews of high res 4k monitors\")"
   ]
  },
  {
   "cell_type": "code",
   "execution_count": 0,
   "metadata": {
    "application/vnd.databricks.v1+cell": {
     "cellMetadata": {
      "byteLimit": 2048000,
      "rowLimit": 10000
     },
     "inputWidgets": {},
     "nuid": "4d6e6e10-3166-4078-b105-8b4e4ea72e67",
     "showTitle": false,
     "tableResultSettingsMap": {},
     "title": ""
    },
    "vscode": {
     "languageId": "sql"
    }
   },
   "outputs": [],
   "source": [
    "select REVIEW_ID, PRODUCT_NAME, PRODUCT_RATING, RATING, REVIEW_TEXT, BRAND, HELPFUL_COUNT\n",
    "from juan_dev.genai.semantic_search_reviews(\"looking to purchase Bluetooth Earbuds for small ears and prefer cheap brands\");"
   ]
  },
  {
   "cell_type": "code",
   "execution_count": 0,
   "metadata": {
    "application/vnd.databricks.v1+cell": {
     "cellMetadata": {},
     "inputWidgets": {},
     "nuid": "45fc21b0-273d-4c23-972a-8fb07079917d",
     "showTitle": false,
     "tableResultSettingsMap": {},
     "title": ""
    },
    "vscode": {
     "languageId": "sql"
    }
   },
   "outputs": [],
   "source": []
  }
 ],
 "metadata": {
  "application/vnd.databricks.v1+notebook": {
   "computePreferences": null,
   "dashboards": [],
   "environmentMetadata": {
    "base_environment": "",
    "environment_version": "2"
   },
   "inputWidgetPreferences": null,
   "language": "sql",
   "notebookMetadata": {
    "mostRecentlyExecutedCommandWithImplicitDF": {
     "commandId": -1,
     "dataframes": [
      "_sqldf"
     ]
    },
    "pythonIndentUnit": 2
   },
   "notebookName": "00-create-tools",
   "widgets": {}
  },
  "kernelspec": {
   "display_name": ".venv",
   "language": "python",
   "name": "python3"
  },
  "language_info": {
   "codemirror_mode": {
    "name": "ipython",
    "version": 3
   },
   "file_extension": ".py",
   "mimetype": "text/x-python",
   "name": "python",
   "nbconvert_exporter": "python",
   "pygments_lexer": "ipython3",
   "version": "3.11.9"
  }
 },
 "nbformat": 4,
 "nbformat_minor": 0
}
